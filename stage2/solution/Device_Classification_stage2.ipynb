{
 "cells": [
  {
   "cell_type": "markdown",
   "metadata": {
    "colab_type": "text",
    "id": "_YS7f-BaEZVn"
   },
   "source": [
    "## DEVICE IMAGE MULTICLASS CLASSIFICATION MODEL ##"
   ]
  },
  {
   "cell_type": "markdown",
   "metadata": {
    "colab_type": "text",
    "id": "anum2-XyEqMc"
   },
   "source": [
    "#### This pdf/notebook explains the process in involved in training the submitted model with preprocessing and augmentation details. ###\n"
   ]
  },
  {
   "cell_type": "markdown",
   "metadata": {
    "colab_type": "text",
    "id": "vzJo6Ji3FTEg"
   },
   "source": [
    "Lets load unzip the data quietly !!! I have attached the drive link to get all the below zip files. We will host the files until Gdrive exixts."
   ]
  },
  {
   "cell_type": "code",
   "execution_count": 0,
   "metadata": {
    "colab": {},
    "colab_type": "code",
    "id": "7PRzvQXXIZyw"
   },
   "outputs": [],
   "source": [
    "#https://drive.google.com/open?id=1-wZsGQP8mT4X4BlPf6eFuuCo_3l8vRx8\n",
    "!unzip -qq 'train.zip'\n",
    "#https://drive.google.com/open?id=102c-Bc3mJyWCuCWpl1mM2td2bU6QgruA\n",
    "!unzip -qq 'val.zip'\n",
    "#https://drive.google.com/open?id=102zJLuni35Ep3awDq4AKx9m-5fifyGwf\n",
    "!unzip -qq 'test.zip'\n",
    "#https://drive.google.com/open?id=16XrMcy7QWJ_eB347U9PZqhBXxQzxFDND\n",
    "!unzip -qq 'random.zip'\n",
    "\n",
    "#https://drive.google.com/open?id=1LvtTKgdBLiYNZzIZh0JH1XswgA_lNsl2\n",
    "!unzip -qq 'device_D_validate.zip'\n",
    "#https://drive.google.com/open?id=1RROAVLG5F1ngJI1w18ke-uDaBUNtw-Jr\n",
    "!unzip -qq 'device_D.zip'\n",
    "#https://drive.google.com/open?id=1G_B0zGa7LtPa1WETwwHsi8N2ivHS25ND\n",
    "!unzip -qq 'device_C.zip'\n",
    "#https://drive.google.com/open?id=1eO6rCcaUD1dWerPe8e6vsJH_zxnpFPbb\n",
    "!unzip -qq 'device_C_validate.zip'\n"
   ]
  },
  {
   "cell_type": "markdown",
   "metadata": {
    "colab_type": "text",
    "id": "dlJMoOY2HW8q"
   },
   "source": [
    "Loading some important libraries"
   ]
  },
  {
   "cell_type": "code",
   "execution_count": 0,
   "metadata": {
    "colab": {},
    "colab_type": "code",
    "id": "tsFhyaEkzV_9"
   },
   "outputs": [],
   "source": [
    "import numpy as np\n",
    "from matplotlib import pyplot as plt\n",
    "from tqdm import tqdm_notebook\n",
    "import pandas as pd\n",
    "from glob import glob\n",
    "import cv2\n",
    "import tensorflow as tf\n",
    "from tensorflow.keras.preprocessing.image import ImageDataGenerator\n",
    "from tensorflow.keras.optimizers import Adam, SGD\n",
    "from tensorflow.keras.callbacks import *\n",
    "from tensorflow.keras import backend as K\n",
    "from tensorflow.keras.models import *\n",
    "from tensorflow.keras.layers import * \n",
    "from sklearn.utils import shuffle\n",
    "#from maskutils import df2imask\n",
    "import scipy\n",
    "from shutil import *\n"
   ]
  },
  {
   "cell_type": "code",
   "execution_count": 0,
   "metadata": {
    "colab": {},
    "colab_type": "code",
    "id": "UGWt3qyUzg_b"
   },
   "outputs": [],
   "source": [
    "#globals \n",
    "nclasses=5\n",
    "size=(384,384,3)\n",
    "width=size[0]\n",
    "height=size[1]\n",
    "depth=size[2]\n",
    "batch_size=16\n",
    "seed=1\n",
    "\n",
    "# path to save our trained model\n",
    "savepath='model'+'DEVICEv4randocc_384_epoch-{epoch:02d}_acc-{acc:.4f}_val_acc-{val_acc:.4f}_loss-{loss:.4f}_val_loss-{val_loss:.4f}_tp-{tp:.4f}_val_tp-{val_tp:.4f}_tn-{tn:.4f}_val_tn-{val_tn:.4f}_auc_{auc:.4f}_val_auc{val_auc:.4f}.h5'\n"
   ]
  },
  {
   "cell_type": "markdown",
   "metadata": {
    "colab_type": "text",
    "id": "WUej1fgxIHmQ"
   },
   "source": [
    "Our pipeline consists of tf.keras datagenerator to load images to \n",
    "our model. It requires images to be stored in class named directory within a main directory. Lets arrange it as follows."
   ]
  },
  {
   "cell_type": "markdown",
   "metadata": {
    "colab_type": "text",
    "id": "DxZHeRgxIjCc"
   },
   "source": [
    "A train dir consisting of separate class folder of images .\n",
    "Same is done for validation dir."
   ]
  },
  {
   "cell_type": "code",
   "execution_count": 0,
   "metadata": {
    "colab": {},
    "colab_type": "code",
    "id": "1JhcEyPbzwAI"
   },
   "outputs": [],
   "source": [
    "!mkdir train/device_D\n",
    "!mkdir val/device_D\n",
    "!mkdir train/device_C\n",
    "!mkdir val/device_C\n",
    "\n",
    "for i in tqdm_notebook(glob('device_C/*')):\n",
    "  copy(i,'train/device_C/')\n",
    "\n",
    "for i in tqdm_notebook(glob('device_C_validate/*')):\n",
    "  copy(i,'val/device_C/')\n",
    "\n",
    "for i in tqdm_notebook(glob('device_D/*')):\n",
    "  copy(i,'train/device_D/')\n",
    "\n",
    "for i in tqdm_notebook(glob('device_D_validate/*')):\n",
    "  copy(i,'val/device_D/')\n",
    "\n",
    "for i in tqdm_notebook(glob('random/images/random/*')):\n",
    "  copy(i,'train/random/')\n",
    "\n",
    "for i in tqdm_notebook(glob('/content/drive/My Drive/device_classification/trainrandextra/*')):\n",
    "  copy(i,'train/random/')\n",
    "\n",
    "for i in tqdm_notebook(glob('/content/drive/My Drive/device_classification/valrandextra/*')):\n",
    "  copy(i,'val/random/')"
   ]
  },
  {
   "cell_type": "markdown",
   "metadata": {
    "colab_type": "text",
    "id": "lojbT33EI_Ov"
   },
   "source": [
    "Next, we will be loading images to model in count of batch_size to accomodate in our computational resources."
   ]
  },
  {
   "cell_type": "markdown",
   "metadata": {
    "colab_type": "text",
    "id": "EZdC0iGHJKG4"
   },
   "source": [
    "We will use on the fly augmentation such as horizontal flip,vertical flip and random rotation randomly to batches of images."
   ]
  },
  {
   "cell_type": "code",
   "execution_count": 0,
   "metadata": {
    "colab": {
     "base_uri": "https://localhost:8080/",
     "height": 102
    },
    "colab_type": "code",
    "id": "dyCKOwxVz28V",
    "outputId": "e18459bb-92dc-4235-815a-876a3d080d2e"
   },
   "outputs": [
    {
     "name": "stdout",
     "output_type": "stream",
     "text": [
      "63\n",
      "Found 1815 images belonging to 5 classes.\n",
      "Found 194 images belonging to 5 classes.\n",
      "train Indices: {'random': 0, 'old': 1, 'new': 2, 'device_C': 3, 'device_D': 4}\n",
      "val Indices: {'random': 0, 'old': 1, 'new': 2, 'device_C': 3, 'device_D': 4}\n"
     ]
    }
   ],
   "source": [
    "\n",
    "train_data_generator = ImageDataGenerator(horizontal_flip=True,vertical_flip=True,\n",
    "                                          rotation_range=90).flow_from_directory(\n",
    "    \"train\",\n",
    "    target_size = (width,height),\n",
    "    color_mode = 'rgb',\n",
    "    classes=['random','old','new','device_C','device_D'],\n",
    "    class_mode='categorical',\n",
    "    batch_size = batch_size)\n",
    "\n",
    "val_data_generator = ImageDataGenerator(horizontal_flip=False,vertical_flip=False).flow_from_directory(\n",
    "    \"val\",\n",
    "    target_size = (width,height),\n",
    "    color_mode = 'rgb',\n",
    "    classes=['random','old','new','device_C','device_D'],\n",
    "    class_mode='categorical',\n",
    "    batch_size = batch_size)\n",
    "\n",
    "\n",
    "print ('train Indices:',train_data_generator.class_indices)\n",
    "\n",
    "print ('val Indices:',val_data_generator.class_indices)\n",
    "\n",
    "#1803\n",
    "#188"
   ]
  },
  {
   "cell_type": "markdown",
   "metadata": {
    "colab_type": "text",
    "id": "Hgv5g77GJova"
   },
   "source": [
    "Time to view what batch of images with augmentation our datgenerators spits out."
   ]
  },
  {
   "cell_type": "code",
   "execution_count": 0,
   "metadata": {
    "colab": {},
    "colab_type": "code",
    "id": "WYMftDZGGXol"
   },
   "outputs": [],
   "source": [
    "dat,lab=next(train_data_generator)\n",
    "valdat,vallab=next(val_data_generator)\n",
    "\n",
    "print (dat[0].shape)\n",
    "for args in range(batch_size):\n",
    "  #print (dat[args].shape)\n",
    "  plt.subplots(1,1,sharex='row',figsize=(5,5))\n",
    "  plt.title(str(lab[args]))\n",
    "  plt.imshow(np.squeeze(np.array(dat[args],dtype=np.int32)))\n",
    "plt.show()\n",
    "\n",
    "print (valdat[0].shape)\n",
    "for args in range(batch_size):\n",
    "  #print (dat[args].shape)\n",
    "  plt.subplots(1,1,sharex='row',figsize=(5,5))\n",
    "  plt.title(str(vallab[args]))\n",
    "  plt.imshow(np.squeeze(np.array(valdat[args],dtype=np.int32)))\n",
    "plt.show()"
   ]
  },
  {
   "cell_type": "markdown",
   "metadata": {
    "colab_type": "text",
    "id": "bvYWtp1LJy3l"
   },
   "source": [
    "This is an important step to visualize to distribution of our image arrays. A mismatch distribution between train/val can kill the training as we rely heavily on BatchNorm."
   ]
  },
  {
   "cell_type": "code",
   "execution_count": 0,
   "metadata": {
    "colab": {
     "base_uri": "https://localhost:8080/",
     "height": 521
    },
    "colab_type": "code",
    "id": "acMBLaoJUlIZ",
    "outputId": "a68a7891-db8c-4626-a97e-f1dc67f449ff"
   },
   "outputs": [
    {
     "data": {
      "image/png": "[encoded data removed]",
      "text/plain": [
       "<Figure size 432x288 with 1 Axes>"
      ]
     },
     "metadata": {
      "tags": []
     },
     "output_type": "display_data"
    },
    {
     "data": {
      "image/png": "[encoded data removed]",
      "text/plain": [
       "<Figure size 432x288 with 1 Axes>"
      ]
     },
     "metadata": {
      "tags": []
     },
     "output_type": "display_data"
    }
   ],
   "source": [
    "plt.plot(np.ravel(dat[5]))\n",
    "plt.show()\n",
    "\n",
    "plt.plot(np.ravel(valdat[5]))\n",
    "plt.show()"
   ]
  },
  {
   "cell_type": "markdown",
   "metadata": {
    "colab_type": "text",
    "id": "ZfbaNwNrKNG6"
   },
   "source": [
    "The vital part of training aka loading our model. Our final layer has softmax activation to classify our samples. Explained more in \n",
    "preproocessing_and_output.pdf "
   ]
  },
  {
   "cell_type": "code",
   "execution_count": 0,
   "metadata": {
    "colab": {
     "base_uri": "https://localhost:8080/",
     "height": 34
    },
    "colab_type": "code",
    "id": "6XEz-UI6gbmd",
    "outputId": "10b26e8a-bfcd-49a9-e76a-9bcc72b74844"
   },
   "outputs": [
    {
     "data": {
      "text/plain": [
       "1e-04"
      ]
     },
     "execution_count": 30,
     "metadata": {
      "tags": []
     },
     "output_type": "execute_result"
    }
   ],
   "source": [
    "\n",
    "K.clear_session()\n",
    "model=load_model('model/model.h5')\n",
    "K.eval(model.optimizer.lr)\n"
   ]
  },
  {
   "cell_type": "markdown",
   "metadata": {
    "colab_type": "text",
    "id": "vID9HORCKc-X"
   },
   "source": [
    "Our actions judge who we are, so as a metric & loss function that judges how good our model is. We keep more weightage on callbacks related AUC metrics to select our best model. Since it's a multi class classification, we stuck to categorical crossentropy "
   ]
  },
  {
   "cell_type": "code",
   "execution_count": 0,
   "metadata": {
    "colab": {},
    "colab_type": "code",
    "id": "jK9TykSYP9cC"
   },
   "outputs": [],
   "source": [
    "\n",
    "metrics = [tf.keras.metrics.TrueNegatives(name='tn'),\n",
    "           tf.keras.metrics.TruePositives(name='tp'),\n",
    "           tf.keras.metrics.FalseNegatives(name='fn'),\n",
    "           tf.keras.metrics.FalsePositives(name='fp'),'accuracy',tf.keras.metrics.AUC(name='auc'),'binary_crossentropy']\n",
    "\n",
    "optimizer=Adam(lr=0.0001,beta_1=0.9, beta_2=0.999, epsilon=None, decay=0.0, amsgrad=False)\n",
    "model.compile(loss='categorical_crossentropy',optimizer=optimizer,metrics=metrics)"
   ]
  },
  {
   "cell_type": "code",
   "execution_count": 0,
   "metadata": {
    "colab": {
     "base_uri": "https://localhost:8080/",
     "height": 68
    },
    "colab_type": "code",
    "id": "wcqUyjAEe3dU",
    "outputId": "f211e441-0a72-4f5c-b599-5c57240b6aed"
   },
   "outputs": [
    {
     "name": "stdout",
     "output_type": "stream",
     "text": [
      "WARNING:tensorflow:`period` argument is deprecated. Please use `save_freq` to specify the frequency in number of samples seen.\n",
      "WARNING:tensorflow:`period` argument is deprecated. Please use `save_freq` to specify the frequency in number of samples seen.\n",
      "WARNING:tensorflow:`period` argument is deprecated. Please use `save_freq` to specify the frequency in number of samples seen.\n"
     ]
    }
   ],
   "source": [
    "model_checkpoint_acc = ModelCheckpoint(filepath=savepath,\n",
    "                                   monitor='val_acc',\n",
    "                                   verbose=1,\n",
    "                                   save_best_only=True,\n",
    "                                   save_weights_only=False,\n",
    "                                   mode='max',\n",
    "                                   period=1)\n",
    "model_checkpoint_loss = ModelCheckpoint(filepath=savepath,\n",
    "                                   monitor='val_loss',\n",
    "                                   verbose=1,\n",
    "                                   save_best_only=True,\n",
    "                                   save_weights_only=False,\n",
    "                                   mode='auto',\n",
    "                                   period=1)\n",
    "\n",
    "model_checkpoint_auc = ModelCheckpoint(filepath=savepath,\n",
    "                                   monitor='val_auc',\n",
    "                                   verbose=1,\n",
    "                                   save_best_only=True,\n",
    "                                   save_weights_only=False,\n",
    "                                   mode='max',\n",
    "                                   period=1)\n",
    "\n",
    "csv_logger = CSVLogger(filename='devicecf.csv',\n",
    "                       separator=',',\n",
    "                       append=True)\n",
    "\n",
    "callbacks = [model_checkpoint_loss,model_checkpoint_acc,csv_logger,model_checkpoint_auc]"
   ]
  },
  {
   "cell_type": "markdown",
   "metadata": {
    "colab_type": "text",
    "id": "R9w5zHfsLnA9"
   },
   "source": [
    "Time for some action. Lets start fitting our sample.......A hundred epochs should be enough to attain train AUC of 1.000 and val_AUC of 0.9999"
   ]
  },
  {
   "cell_type": "code",
   "execution_count": 0,
   "metadata": {
    "colab": {
     "base_uri": "https://localhost:8080/",
     "height": 51
    },
    "colab_type": "code",
    "id": "l1hePyaiQ7Ez",
    "outputId": "e0801100-616e-40d8-dd50-26cf882115ef"
   },
   "outputs": [
    {
     "name": "stdout",
     "output_type": "stream",
     "text": [
      "lr: 1e-04\n",
      "batch_size: 16\n"
     ]
    }
   ],
   "source": [
    "initial_epoch=0\n",
    "train_count=1815\n",
    "val_count=194\n",
    "#class_weight={0: 1.2660550458715596, 1: 0.8263473053892215}\n",
    "#callbacks=None\n",
    "#K.set_value(model.optimizer.lr,7e-5)\n",
    "print('lr:',K.eval(model.optimizer.lr))\n",
    "#print ('class weight:',class_weight)\n",
    "print ('batch_size:',batch_size)\n",
    "history = model.fit_generator(\n",
    "      train_data_generator,\n",
    "      steps_per_epoch=train_count/batch_size,\n",
    "      validation_data=val_data_generator,\n",
    "      validation_steps=val_count/batch_size,\n",
    "      epochs=100,\n",
    "      verbose=1,initial_epoch=initial_epoch,callbacks=callbacks)"
   ]
  },
  {
   "cell_type": "markdown",
   "metadata": {
    "colab_type": "text",
    "id": "ojdZs9xkL1UZ"
   },
   "source": [
    "After training close to 50 epochs with manually optimising hyperparameters we will reach the SOTA with our model."
   ]
  },
  {
   "cell_type": "markdown",
   "metadata": {
    "colab_type": "text",
    "id": "s0Jrg6OlRQwj"
   },
   "source": [
    "TF.KERAS MODEL TO COREML CONVERSION"
   ]
  },
  {
   "cell_type": "markdown",
   "metadata": {
    "colab_type": "text",
    "id": "UbLqJe4lRYSH"
   },
   "source": [
    "CoreML does not have direct tf.keras conversion.So we load our keras skeleton from skeleton.h5 and load flesh a.k.a model weights from tf.keras model.h5 . Now we are ready to convert the weight loaded model to coreML"
   ]
  },
  {
   "cell_type": "code",
   "execution_count": 0,
   "metadata": {
    "colab": {},
    "colab_type": "code",
    "id": "lcsXAqxnSPYs"
   },
   "outputs": [],
   "source": [
    "!pip install coremltools\n",
    "import coremltools"
   ]
  },
  {
   "cell_type": "code",
   "execution_count": 0,
   "metadata": {
    "colab": {},
    "colab_type": "code",
    "id": "xDjvQKsZSPky"
   },
   "outputs": [],
   "source": [
    "####loading model.h5 tf.keras ####\n",
    "from tensorflow.keras.models import load_model\n",
    "base_model=load_model('model/model.h5')\n",
    "base_model.save_weights('base_weights.h5')\n",
    "base_model.summary()"
   ]
  },
  {
   "cell_type": "code",
   "execution_count": 0,
   "metadata": {
    "colab": {},
    "colab_type": "code",
    "id": "WaMLeRsXPBrN"
   },
   "outputs": [],
   "source": [
    "import keras\n",
    "nclasses=5\n",
    "#download and load keras skeleton here https://drive.google.com/open?id=1b_J3jeXIDIVERywZG84YRXOCPsGmklfS\n",
    "base_model=load_model('skeleton.h5')\n",
    "inputs=base_model.inputs\n",
    "x=base_model.layers[-2].output\n",
    "x=keras.layers.BatchNormalization()(x)\n",
    "if nclasses>1:\n",
    "  act='softmax'\n",
    "else:\n",
    "  act='sigmoid'\n",
    "\n",
    "outputs=keras.layers.Dense(nclasses,activation=act,name='final_'+act)(x)\n",
    "model=keras.models.Model(inputs,outputs)\n",
    "print('loading weights....')\n",
    "print (model.summary())\n",
    "\n",
    "ml_model=coremltools.converters.keras.convert(model)\n",
    "ml_model.author = 'fs0c131y'\n",
    "ml_model.license = 'BSD'\n",
    "ml_model.short_description = 'Classify 5 scenarios of devices.'\n",
    "ml_model.save('model.mlmodel')"
   ]
  },
  {
   "cell_type": "markdown",
   "metadata": {
    "colab_type": "text",
    "id": "CkeHJma1V698"
   },
   "source": [
    "A simple two line process"
   ]
  },
  {
   "cell_type": "markdown",
   "metadata": {
    "colab_type": "text",
    "id": "zf4cPteCSpjf"
   },
   "source": [
    "TF.KERAS TO ONNX "
   ]
  },
  {
   "cell_type": "code",
   "execution_count": 0,
   "metadata": {
    "colab": {},
    "colab_type": "code",
    "id": "_GBEFtFkSuy-"
   },
   "outputs": [],
   "source": [
    "!pip3 install onnx\n",
    "!pip3 install keras2onnx"
   ]
  },
  {
   "cell_type": "code",
   "execution_count": 0,
   "metadata": {
    "colab": {},
    "colab_type": "code",
    "id": "jIEPPOTwTf0F"
   },
   "outputs": [],
   "source": [
    "import keras2onnx\n",
    "import onnx\n",
    "\n",
    "model2=load_model('model/model.h5')\n",
    "print ('model_loaded')\n",
    "temp=keras2onnx.convert_keras(model2, name='temp1', doc_string='', target_opset=None, channel_first_inputs=None)\n",
    "onnx.save_model(temp,model.name+'.onnx')"
   ]
  },
  {
   "cell_type": "markdown",
   "metadata": {
    "colab_type": "text",
    "id": "ej0t4ZTRMHd1"
   },
   "source": [
    "Thank You !!!!!! Flushing all files !!"
   ]
  },
  {
   "cell_type": "code",
   "execution_count": null,
   "metadata": {},
   "outputs": [],
   "source": [
    "!rm -r *"
   ]
  }
 ],
 "metadata": {
  "accelerator": "GPU",
  "colab": {
   "collapsed_sections": [],
   "name": "Report_Device_Classification_v2",
   "provenance": [],
   "version": "0.3.2"
  },
  "kernelspec": {
   "display_name": "Python 3",
   "language": "python",
   "name": "python3"
  },
  "language_info": {
   "codemirror_mode": {
    "name": "ipython",
    "version": 2
   },
   "file_extension": ".py",
   "mimetype": "text/x-python",
   "name": "python",
   "nbconvert_exporter": "python",
   "pygments_lexer": "ipython2",
   "version": "2.7.15+"
  }
 },
 "nbformat": 4,
 "nbformat_minor": 1
}
